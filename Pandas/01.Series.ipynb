{
 "cells": [
  {
   "cell_type": "markdown",
   "id": "7995c99a",
   "metadata": {},
   "source": [
    "# Pandas\n",
    "Pandas is a Python library used to analyze data"
   ]
  },
  {
   "cell_type": "code",
   "execution_count": 2,
   "id": "6d4d738e",
   "metadata": {},
   "outputs": [],
   "source": [
    "import pandas as pd"
   ]
  },
  {
   "cell_type": "markdown",
   "id": "1c3997f0",
   "metadata": {},
   "source": [
    "# 1. Series\n",
    "1-dimensional data"
   ]
  },
  {
   "cell_type": "markdown",
   "id": "469d5aa7",
   "metadata": {},
   "source": [
    "## Series: Creating an Object\n",
    "e.g. Average temperature from January to April (-20, -10, 10, 20)"
   ]
  },
  {
   "cell_type": "code",
   "execution_count": 3,
   "id": "95ccecc6",
   "metadata": {},
   "outputs": [
    {
     "name": "stdout",
     "output_type": "stream",
     "text": [
      "0   -20\n",
      "1   -10\n",
      "2    10\n",
      "3    20\n",
      "dtype: int64\n"
     ]
    }
   ],
   "source": [
    "temp = pd.Series([-20, -10, 10, 20])\n",
    "print(temp)"
   ]
  },
  {
   "cell_type": "code",
   "execution_count": 4,
   "id": "1a7f6d5a",
   "metadata": {},
   "outputs": [
    {
     "name": "stdout",
     "output_type": "stream",
     "text": [
      "-20\n"
     ]
    }
   ],
   "source": [
    "print(temp[0]) # January temperature"
   ]
  },
  {
   "cell_type": "code",
   "execution_count": 5,
   "id": "b4bbdc06",
   "metadata": {},
   "outputs": [
    {
     "name": "stdout",
     "output_type": "stream",
     "text": [
      "10\n"
     ]
    }
   ],
   "source": [
    "print(temp[2]) # March temperature"
   ]
  },
  {
   "cell_type": "markdown",
   "id": "0fbce705",
   "metadata": {},
   "source": [
    "# Series: Creating an Object Part 2 - Define Index Manually"
   ]
  },
  {
   "cell_type": "code",
   "execution_count": 4,
   "id": "1a77dc95",
   "metadata": {},
   "outputs": [
    {
     "name": "stdout",
     "output_type": "stream",
     "text": [
      "Jan   -20\n",
      "Feb   -10\n",
      "Mar    10\n",
      "Apr    20\n",
      "dtype: int64\n"
     ]
    }
   ],
   "source": [
    "temp = pd.Series([-20, -10, 10, 20], index=['Jan', 'Feb', 'Mar', 'Apr'])\n",
    "print(temp)"
   ]
  },
  {
   "cell_type": "code",
   "execution_count": 8,
   "id": "6267261f",
   "metadata": {},
   "outputs": [
    {
     "name": "stdout",
     "output_type": "stream",
     "text": [
      "-10\n"
     ]
    }
   ],
   "source": [
    "print(temp['Feb']) # February temperature"
   ]
  }
 ],
 "metadata": {
  "kernelspec": {
   "display_name": "Python 3 (ipykernel)",
   "language": "python",
   "name": "python3"
  },
  "language_info": {
   "codemirror_mode": {
    "name": "ipython",
    "version": 3
   },
   "file_extension": ".py",
   "mimetype": "text/x-python",
   "name": "python",
   "nbconvert_exporter": "python",
   "pygments_lexer": "ipython3",
   "version": "3.9.12"
  }
 },
 "nbformat": 4,
 "nbformat_minor": 5
}
